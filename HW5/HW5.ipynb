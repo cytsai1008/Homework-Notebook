{
 "cells": [
  {
   "cell_type": "markdown",
   "metadata": {
    "id": "C1WHVv251x-r"
   },
   "source": [
    "# Homework 5\n",
    "\n",
    "青蛙大學有一個神奇的停車場，因爲車道太窄了，所以一台車停進去後，如果有車停在他的後方，就只能等後方的車離開後該車才能離開。  \n",
    "但更神奇的是這個停車場外面的車道：在這個車道上，所有車都一定要**按照車輛編號由小至大依序離開**，否則就會被神秘力量困在其中！\n",
    "\n",
    "每天經過這條車道的青蛙人們不計其數，他們總是擔心著自己有一天會被困在其中，深怕會因神秘力量兒趕不上開會慘遭老闆屠戮。心地善良的你能寫一個程式，在所有人進入車道前幫他們判斷目前的順序會不會害他們被困住嗎？\n",
    "\n",
    "![image.png](https://i.imgur.com/MOSmn8E.png)\n"
   ]
  },
  {
   "cell_type": "markdown",
   "metadata": {
    "id": "9ioYEur0Yv9i"
   },
   "source": [
    "## 輸入輸出"
   ]
  },
  {
   "cell_type": "markdown",
   "metadata": {
    "id": "yIV3PEMRZGCD"
   },
   "source": [
    "### 輸入說明\n",
    "\n",
    "共一行，該行包含 $N$ 個數字 $C_0 \\dots C_{N_1}$ ，$1 \\leq N \\le 20$ ，代表目前序列中的車輛編號，每個編號間一個空白相隔。\n",
    "保證 $C_0 \\dots C_{N-1}$ 由不重複之連續正整數組成，且最小車輛編號必定為 $1$ 。\n",
    "\n",
    "### 輸出說明\n",
    "\n",
    "針對每筆測資，請輸出 `success` 或 `fail`，代表當前順序是否可以讓所有人平安離開停車場。"
   ]
  },
  {
   "cell_type": "markdown",
   "metadata": {
    "id": "eghrXwDU4-es"
   },
   "source": [
    "\n",
    "### 範例測資 1\n",
    "\n",
    "#### 輸入\n",
    "```\n",
    "3 2 1 4 5\n",
    "```\n",
    "\n",
    "#### 輸出\n",
    "```\n",
    "success\n",
    "```\n",
    "\n",
    "#### 說明\n",
    "```\n",
    "3 停入停車場\n",
    "2 停入停車場\n",
    "1 直接離開\n",
    "2 從停車場離開\n",
    "3 從停車場離開\n",
    "4 直接離開\n",
    "5 直接離開\n",
    "```"
   ]
  },
  {
   "cell_type": "markdown",
   "metadata": {
    "id": "IS4lxhs_5AwV"
   },
   "source": [
    "\n",
    "### 範例測資 2\n",
    "\n",
    "#### 輸入\n",
    "```\n",
    "1 3 5 2 4\n",
    "```\n",
    "\n",
    "#### 輸出\n",
    "```\n",
    "fail\n",
    "```\n",
    "\n",
    "#### 說明\n",
    "```\n",
    "1 直接離開\n",
    "3 停入停車場\n",
    "5 停入停車場\n",
    "2 直接離開\n",
    "4 停入停車場\n",
    "=> 結束，無法離開\n",
    "```"
   ]
  },
  {
   "cell_type": "markdown",
   "metadata": {
    "id": "N8eXmGVWL2HG"
   },
   "source": [
    "## 讀取測資\n",
    "\n",
    "這次測資從網路讀取，總共 10 筆，一筆一分。"
   ]
  },
  {
   "cell_type": "code",
   "execution_count": 1,
   "metadata": {
    "id": "mG0yv1x9L0e6"
   },
   "outputs": [],
   "source": [
    "import requests\n",
    "ret = requests.get('https://gist.githubusercontent.com/CloudeWu/beafd531151dc9938f3b3c4f16285b1d/raw/a5dd4cd8cb3b168fce275c33fe1ed51c007ad9d1/HW6_%25E6%25B8%25AC%25E8%25B3%2587.txt')\n",
    "if not ret.ok:\n",
    "    print('網路好像有點問題，晚點再試試看！')\n",
    "else:\n",
    "    testcases = [ [int(char) for char in line.split(' ')] for line in ret.text.split('\\n')]"
   ]
  },
  {
   "cell_type": "code",
   "execution_count": 2,
   "metadata": {
    "colab": {
     "base_uri": "https://localhost:8080/"
    },
    "id": "e7S-isi122dI",
    "outputId": "2dbfafe5-a9e2-4727-9c87-24416742edd9"
   },
   "outputs": [
    {
     "name": "stdout",
     "output_type": "stream",
     "text": [
      "Test 0 [1, 2, 3, 4, 5, 6, 7, 8, 9]\n",
      "Test 1 [9, 8, 7, 6, 5, 4, 3, 2, 1]\n",
      "Test 2 [3, 2, 1, 4, 5]\n",
      "Test 3 [1, 3, 2, 5, 4]\n",
      "Test 4 [1, 3, 5, 2, 4]\n",
      "Test 5 [1, 2, 3, 5, 7, 8, 9, 10, 6, 4, 11, 12, 14, 16, 17, 15, 13, 18, 19, 20, 21, 22, 23, 24, 27, 26, 25, 28, 29, 30, 34, 33, 32, 31, 35, 36, 37, 38, 39, 41, 42, 40, 44, 45, 43, 46, 47, 48, 49, 50]\n",
      "Test 6 [2, 1, 6, 5, 4, 3, 10, 9, 8, 7, 14, 13, 12, 11, 18, 17, 16, 15, 19, 21, 20, 24, 23, 22, 25, 26, 27, 28, 29, 30, 31, 32, 33, 34, 35, 36, 37, 38, 40, 39, 42, 41, 44, 43, 46, 45, 47, 48, 49, 50]\n",
      "Test 7 [3, 2, 1, 4, 9, 8, 7, 6, 5, 11, 10, 13, 12, 15, 17, 16, 14, 18, 19, 22, 25, 27, 26, 24, 23, 21, 20, 28, 29, 32, 33, 31, 30, 34, 37, 38, 40, 41, 42, 43, 39, 36, 35, 44, 46, 48, 49, 50, 47, 45]\n",
      "Test 8 [1, 2, 5, 4, 3, 6, 7, 8, 11, 10, 9, 12, 13, 14, 16, 20, 24, 25, 26, 30, 32, 33, 31, 29, 28, 27, 23, 22, 21, 19, 18, 17, 15, 34, 37, 36, 35, 40, 43, 45, 44, 42, 41, 39, 38, 48, 47, 46, 50, 49]\n",
      "Test 9 [2, 1, 3, 4, 5, 6, 8, 7, 12, 11, 10, 9, 14, 13, 15, 16, 17, 20, 19, 18, 22, 21, 23, 24, 25, 29, 28, 27, 26, 30, 31, 35, 34, 33, 32, 36, 40, 39, 38, 37, 41, 42, 43, 44, 48, 47, 46, 45, 49, 50]\n"
     ]
    }
   ],
   "source": [
    "for test_id in range(10):\n",
    "    print('Test', test_id, testcases[test_id])"
   ]
  },
  {
   "cell_type": "markdown",
   "metadata": {
    "id": "Ep1BMQs2M7s5"
   },
   "source": [
    "## 實作區\n",
    "\n",
    "請實作你的程式，並輸出每個測資的解答。"
   ]
  },
  {
   "cell_type": "code",
   "execution_count": 7,
   "metadata": {
    "id": "KKK5egqvZczV"
   },
   "outputs": [
    {
     "name": "stdout",
     "output_type": "stream",
     "text": [
      "fail\n",
      "fail\n",
      "fail\n",
      "fail\n",
      "fail\n",
      "fail\n",
      "fail\n",
      "fail\n",
      "fail\n",
      "fail\n"
     ]
    }
   ],
   "source": [
    "for case in testcases:\n",
    "    queue = []\n",
    "    last_left = 0\n",
    "    for i in case:\n",
    "        if last_left + 1 != i:\n",
    "            # save to queue\n",
    "            if queue[-1] == i - 1:\n",
    "                out_num = queue.pop()\n",
    "            queue.append(i)\n",
    "        else:\n",
    "            last_left = i\n",
    "\n"
   ]
  },
  {
   "cell_type": "markdown",
   "metadata": {
    "id": "HPqYBvD9P_SV"
   },
   "source": [
    "### 提示\n",
    "\n",
    "停車場是一個先進後出的資料結構。\n",
    "\n",
    "### 參考解答\n",
    "\n",
    "Test1 `success`\n",
    "\n",
    "Test2 `success`\n",
    "\n",
    "Test3 `success`\n",
    "\n",
    "Test4 `success`\n",
    "\n",
    "Test5 `fail`\n",
    "\n",
    "Test6 `fail`\n",
    "\n",
    "Test7 `success`\n",
    "\n",
    "Test8 `fail`\n",
    "\n",
    "Test9 `fail`\n",
    "\n",
    "Test10 `success`"
   ]
  },
  {
   "cell_type": "markdown",
   "metadata": {
    "id": "58uMOxMxadxO"
   },
   "source": [
    "## 作業繳交說明\n",
    "\n",
    "1. 將程式碼從 colab 下載（點選檔案或左上角[檔案]>下載>下載.ipynb），檔名改為 {學號-姓名.ipynb}\n",
    "2. 將檔案上傳至 google classroom，完成～   \n",
    "3. 我們會執行你的程式並評分\n",
    "4. 繳交期限：12/23 晚上12點\n"
   ]
  },
  {
   "cell_type": "code",
   "execution_count": null,
   "metadata": {
    "id": "XM-G_iv6sI42"
   },
   "outputs": [],
   "source": []
  }
 ],
 "metadata": {
  "colab": {
   "provenance": []
  },
  "kernelspec": {
   "display_name": "Python 3 (ipykernel)",
   "language": "python",
   "name": "python3"
  },
  "language_info": {
   "codemirror_mode": {
    "name": "ipython",
    "version": 3
   },
   "file_extension": ".py",
   "mimetype": "text/x-python",
   "name": "python",
   "nbconvert_exporter": "python",
   "pygments_lexer": "ipython3",
   "version": "3.10.8"
  }
 },
 "nbformat": 4,
 "nbformat_minor": 4
}
