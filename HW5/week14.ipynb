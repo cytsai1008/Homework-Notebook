{
  "cells": [
    {
      "cell_type": "markdown",
      "metadata": {
        "id": "FlmPHd7q4jFg"
      },
      "source": [
        "## 資料結構 / Data Structure\n",
        "* 電腦中儲存、組織資料的方式\n",
        "* 之前學的list和dictionary都是資料結構\n",
        "* 正確的資料結構選擇可以提高程式執行的效率，程式寫起來也會比較容易\n",
        "* 今天要跟大家介紹兩種常見、好用的資料結構：**Queue**和**Stack**"
      ]
    },
    {
      "cell_type": "markdown",
      "metadata": {
        "id": "FshyGig44jFk"
      },
      "source": [
        "# Queue - 佇列\n",
        "我們在排隊買東西的時候，先來的人會排在隊伍前面，可以先買東西，晚來的人會排在隊伍的最後面，等到他前面的人都買完了，才可以買。\n",
        "\n",
        "這個情況剛好跟Queue的設計相同：\n",
        "1. 先進先出 (first in first out / FIFO)\n",
        "2. Enqueue: 輸入東西，並且讓他排在最後面\n",
        "3. Dequeue: 輸出最前面的值\n",
        "4. 需要兩個變數來記錄enqueue到哪裡，以及dequeue哪一個\n",
        "\n",
        "<img src='https://imgur.com/p83BsYQ.png'> <br> "
      ]
    },
    {
      "cell_type": "markdown",
      "metadata": {
        "id": "ve-WUKFV4jFl"
      },
      "source": [
        "## 利用list實作\n",
        "其實python的collections package有寫好的queue可以直接使用，但是為了讓大家了解queue的運作方式，這裡要利用list自己實作queue，包括enqueue和dequeue來操作queue。\n",
        "\n",
        "#### 1. 首先先建立一個可以放三個數字的list："
      ]
    },
    {
      "cell_type": "code",
      "execution_count": null,
      "metadata": {
        "id": "Mz6hnld_4jFm",
        "colab": {
          "base_uri": "https://localhost:8080/"
        },
        "outputId": "0f25b8a0-81b3-4d2a-be94-943043ca448c"
      },
      "outputs": [
        {
          "output_type": "execute_result",
          "data": {
            "text/plain": [
              "[None, None, None]"
            ]
          },
          "metadata": {},
          "execution_count": 1
        }
      ],
      "source": [
        "queue = [None] * 3\n",
        "queue"
      ]
    },
    {
      "cell_type": "markdown",
      "metadata": {
        "id": "4YXUmtYN4jFn"
      },
      "source": [
        "#### 2. 初始化記錄enqueue到哪裡，以及dequeue哪一個的變數，因為queue是空的，所以都設為0"
      ]
    },
    {
      "cell_type": "code",
      "execution_count": null,
      "metadata": {
        "id": "_UuzyChK4jFn"
      },
      "outputs": [],
      "source": [
        "front = 0\n",
        "rear = 0"
      ]
    },
    {
      "cell_type": "markdown",
      "metadata": {
        "id": "C-ElqClX4jFo"
      },
      "source": [
        "#### 3. 把他們包在class裡"
      ]
    },
    {
      "cell_type": "code",
      "execution_count": null,
      "metadata": {
        "id": "RuxdrfUs4jFp"
      },
      "outputs": [],
      "source": [
        "class Queue():\n",
        "    def __init__(self):\n",
        "        self.queue = [None] * 3\n",
        "        self.front = 0\n",
        "        self.rear = 0"
      ]
    },
    {
      "cell_type": "markdown",
      "metadata": {
        "id": "KliJM4El4jFq"
      },
      "source": [
        "#### 4. 實作enqueue method"
      ]
    },
    {
      "cell_type": "code",
      "execution_count": null,
      "metadata": {
        "id": "2JIRYQE44jFr"
      },
      "outputs": [],
      "source": [
        "class Queue():\n",
        "    def __init__(self):\n",
        "        self.queue = [None] * 3\n",
        "        self.front = 0\n",
        "        self.rear = 0\n",
        "    def enqueue(self, num):\n",
        "        self.queue[self.rear] = num\n",
        "        self.rear = self.rear + 1\n",
        "        return True"
      ]
    },
    {
      "cell_type": "code",
      "execution_count": null,
      "metadata": {
        "id": "aaclD_NK4jFs",
        "outputId": "c2972e14-ff07-464c-c3d0-ca37f4f96022",
        "colab": {
          "base_uri": "https://localhost:8080/"
        }
      },
      "outputs": [
        {
          "output_type": "stream",
          "name": "stdout",
          "text": [
            "True\n"
          ]
        }
      ],
      "source": [
        "q1 = Queue()\n",
        "print(q1.enqueue(3))"
      ]
    },
    {
      "cell_type": "code",
      "execution_count": null,
      "metadata": {
        "id": "qMATqDJ44jFt",
        "outputId": "fa7c0006-16e3-476c-f3d2-5c52bf154a5e",
        "colab": {
          "base_uri": "https://localhost:8080/"
        }
      },
      "outputs": [
        {
          "output_type": "stream",
          "name": "stdout",
          "text": [
            "True\n",
            "True\n"
          ]
        }
      ],
      "source": [
        "print(q1.enqueue(0))\n",
        "print(q1.enqueue(6))"
      ]
    },
    {
      "cell_type": "code",
      "execution_count": null,
      "metadata": {
        "id": "e1EWw55h4jFt",
        "outputId": "6b121954-4ba5-486d-f39a-26bc29ce9785",
        "colab": {
          "base_uri": "https://localhost:8080/"
        }
      },
      "outputs": [
        {
          "output_type": "stream",
          "name": "stdout",
          "text": [
            "[3, 0, 6]\n"
          ]
        }
      ],
      "source": [
        "print(q1.queue)"
      ]
    },
    {
      "cell_type": "code",
      "execution_count": null,
      "metadata": {
        "id": "AjQUQMOi4jFt",
        "outputId": "ece60a4a-f09b-43d2-d6f9-308db42c84d6",
        "colab": {
          "base_uri": "https://localhost:8080/",
          "height": 289
        }
      },
      "outputs": [
        {
          "output_type": "error",
          "ename": "IndexError",
          "evalue": "ignored",
          "traceback": [
            "\u001b[0;31m---------------------------------------------------------------------------\u001b[0m",
            "\u001b[0;31mIndexError\u001b[0m                                Traceback (most recent call last)",
            "\u001b[0;32m<ipython-input-8-782b2734b414>\u001b[0m in \u001b[0;36m<module>\u001b[0;34m\u001b[0m\n\u001b[0;32m----> 1\u001b[0;31m \u001b[0mprint\u001b[0m\u001b[0;34m(\u001b[0m\u001b[0mq1\u001b[0m\u001b[0;34m.\u001b[0m\u001b[0menqueue\u001b[0m\u001b[0;34m(\u001b[0m\u001b[0;36m7\u001b[0m\u001b[0;34m)\u001b[0m\u001b[0;34m)\u001b[0m\u001b[0;34m\u001b[0m\u001b[0;34m\u001b[0m\u001b[0m\n\u001b[0m",
            "\u001b[0;32m<ipython-input-4-0c4076371cf5>\u001b[0m in \u001b[0;36menqueue\u001b[0;34m(self, num)\u001b[0m\n\u001b[1;32m      5\u001b[0m         \u001b[0mself\u001b[0m\u001b[0;34m.\u001b[0m\u001b[0mrear\u001b[0m \u001b[0;34m=\u001b[0m \u001b[0;36m0\u001b[0m\u001b[0;34m\u001b[0m\u001b[0;34m\u001b[0m\u001b[0m\n\u001b[1;32m      6\u001b[0m     \u001b[0;32mdef\u001b[0m \u001b[0menqueue\u001b[0m\u001b[0;34m(\u001b[0m\u001b[0mself\u001b[0m\u001b[0;34m,\u001b[0m \u001b[0mnum\u001b[0m\u001b[0;34m)\u001b[0m\u001b[0;34m:\u001b[0m\u001b[0;34m\u001b[0m\u001b[0;34m\u001b[0m\u001b[0m\n\u001b[0;32m----> 7\u001b[0;31m         \u001b[0mself\u001b[0m\u001b[0;34m.\u001b[0m\u001b[0mqueue\u001b[0m\u001b[0;34m[\u001b[0m\u001b[0mself\u001b[0m\u001b[0;34m.\u001b[0m\u001b[0mrear\u001b[0m\u001b[0;34m]\u001b[0m \u001b[0;34m=\u001b[0m \u001b[0mnum\u001b[0m\u001b[0;34m\u001b[0m\u001b[0;34m\u001b[0m\u001b[0m\n\u001b[0m\u001b[1;32m      8\u001b[0m         \u001b[0mself\u001b[0m\u001b[0;34m.\u001b[0m\u001b[0mrear\u001b[0m \u001b[0;34m=\u001b[0m \u001b[0mself\u001b[0m\u001b[0;34m.\u001b[0m\u001b[0mrear\u001b[0m \u001b[0;34m+\u001b[0m \u001b[0;36m1\u001b[0m\u001b[0;34m\u001b[0m\u001b[0;34m\u001b[0m\u001b[0m\n\u001b[1;32m      9\u001b[0m         \u001b[0;32mreturn\u001b[0m \u001b[0;32mTrue\u001b[0m\u001b[0;34m\u001b[0m\u001b[0;34m\u001b[0m\u001b[0m\n",
            "\u001b[0;31mIndexError\u001b[0m: list assignment index out of range"
          ]
        }
      ],
      "source": [
        "print(q1.enqueue(7))"
      ]
    },
    {
      "cell_type": "markdown",
      "metadata": {
        "id": "d3Iqr2r44jFu"
      },
      "source": [
        "#### 考量queue滿的狀況"
      ]
    },
    {
      "cell_type": "code",
      "execution_count": null,
      "metadata": {
        "id": "nfGAEPfh4jFu"
      },
      "outputs": [],
      "source": [
        "class Queue():\n",
        "    def __init__(self):\n",
        "        self.queue = [None] * 3\n",
        "        self.front = 0\n",
        "        self.rear = 0\n",
        "    def enqueue(self,num):\n",
        "        if self.rear >= len(self.queue):\n",
        "            return False\n",
        "        self.queue[self.rear] = num\n",
        "        self.rear = self.rear + 1\n",
        "        return True"
      ]
    },
    {
      "cell_type": "code",
      "execution_count": null,
      "metadata": {
        "id": "rK0tHKNc4jFv",
        "outputId": "ed27d6c4-a381-4b18-abb1-5389e6a9ac13",
        "colab": {
          "base_uri": "https://localhost:8080/"
        }
      },
      "outputs": [
        {
          "output_type": "stream",
          "name": "stdout",
          "text": [
            "True\n",
            "True\n",
            "True\n"
          ]
        }
      ],
      "source": [
        "q2 = Queue()\n",
        "print(q2.enqueue(1))\n",
        "print(q2.enqueue(3))\n",
        "print(q2.enqueue(5))"
      ]
    },
    {
      "cell_type": "code",
      "execution_count": null,
      "metadata": {
        "id": "0n6eRtw_4jFv",
        "outputId": "c1af9b9d-290c-43d7-a44e-23e02d1621f0",
        "colab": {
          "base_uri": "https://localhost:8080/"
        }
      },
      "outputs": [
        {
          "output_type": "stream",
          "name": "stdout",
          "text": [
            "[1, 3, 5]\n"
          ]
        }
      ],
      "source": [
        "print(q2.queue)"
      ]
    },
    {
      "cell_type": "code",
      "execution_count": null,
      "metadata": {
        "id": "08SkpJoq4jFv",
        "outputId": "0067fb60-d605-4fc7-8e2f-16974b73ae70",
        "colab": {
          "base_uri": "https://localhost:8080/"
        }
      },
      "outputs": [
        {
          "output_type": "stream",
          "name": "stdout",
          "text": [
            "False\n"
          ]
        }
      ],
      "source": [
        "print(q2.enqueue(7))"
      ]
    },
    {
      "cell_type": "code",
      "execution_count": null,
      "metadata": {
        "id": "mpIsa3Cj4jFw",
        "outputId": "b8170cd3-18b6-46f3-e4d9-58ab2608f574",
        "colab": {
          "base_uri": "https://localhost:8080/"
        }
      },
      "outputs": [
        {
          "output_type": "stream",
          "name": "stdout",
          "text": [
            "[1, 3, 5]\n"
          ]
        }
      ],
      "source": [
        "print(q2.queue)"
      ]
    },
    {
      "cell_type": "markdown",
      "metadata": {
        "id": "XDPvGhf54jFw"
      },
      "source": [
        "#### 5. 實作dequeue method"
      ]
    },
    {
      "cell_type": "code",
      "execution_count": null,
      "metadata": {
        "id": "9yG0eEMR4jFw"
      },
      "outputs": [],
      "source": [
        "class Queue():\n",
        "    def __init__(self):\n",
        "        self.queue = [None] * 3\n",
        "        self.front = 0\n",
        "        self.rear = 0\n",
        "    def enqueue(self,num):\n",
        "        if self.rear >= len(self.queue):\n",
        "            return False\n",
        "        self.queue[self.rear] = num\n",
        "        self.rear = self.rear + 1\n",
        "        return True\n",
        "    def dequeue(self):\n",
        "        result = self.queue[self.front]\n",
        "        self.front = self.front + 1\n",
        "        return result"
      ]
    },
    {
      "cell_type": "code",
      "execution_count": null,
      "metadata": {
        "id": "IeYygOwL4jFx",
        "outputId": "f33704c2-83f4-4110-8a0f-042c16922980",
        "colab": {
          "base_uri": "https://localhost:8080/"
        }
      },
      "outputs": [
        {
          "output_type": "stream",
          "name": "stdout",
          "text": [
            "True\n",
            "True\n"
          ]
        }
      ],
      "source": [
        "q3 = Queue()\n",
        "print(q3.enqueue(2))\n",
        "print(q3.enqueue(4))"
      ]
    },
    {
      "cell_type": "code",
      "execution_count": null,
      "metadata": {
        "id": "xcPIVXQn4jFx",
        "outputId": "f1574caf-2b6a-4563-ab59-7ebc1ac6e721",
        "colab": {
          "base_uri": "https://localhost:8080/"
        }
      },
      "outputs": [
        {
          "output_type": "stream",
          "name": "stdout",
          "text": [
            "2\n"
          ]
        }
      ],
      "source": [
        "print(q3.dequeue())"
      ]
    },
    {
      "cell_type": "code",
      "execution_count": null,
      "metadata": {
        "id": "X7MPagKh4jFx",
        "outputId": "b8353d73-cdce-4312-9d68-622d0efd9330",
        "colab": {
          "base_uri": "https://localhost:8080/"
        }
      },
      "outputs": [
        {
          "output_type": "stream",
          "name": "stdout",
          "text": [
            "4\n"
          ]
        }
      ],
      "source": [
        "print(q3.dequeue())"
      ]
    },
    {
      "cell_type": "code",
      "execution_count": null,
      "metadata": {
        "id": "bLh8mKHE4jFx",
        "outputId": "7f71c5ee-3f9e-4f90-aa35-0e04bdf33a9a",
        "colab": {
          "base_uri": "https://localhost:8080/"
        }
      },
      "outputs": [
        {
          "output_type": "stream",
          "name": "stdout",
          "text": [
            "None\n"
          ]
        }
      ],
      "source": [
        "print(q3.dequeue())"
      ]
    },
    {
      "cell_type": "markdown",
      "metadata": {
        "id": "kg7WSqr-4jFy"
      },
      "source": [
        "#### 判斷queue是否還有數字"
      ]
    },
    {
      "cell_type": "code",
      "execution_count": null,
      "metadata": {
        "id": "gDjWE73H4jFy"
      },
      "outputs": [],
      "source": [
        "class Queue():\n",
        "    def __init__(self):\n",
        "        self.queue = [None] * 3\n",
        "        self.front = 0\n",
        "        self.rear = 0\n",
        "    def enqueue(self,num):\n",
        "        if self.rear >= len(self.queue):\n",
        "            return False\n",
        "        self.queue[self.rear] = num\n",
        "        self.rear+=1\n",
        "        return True\n",
        "    def dequeue(self):\n",
        "        if self.front == self.rear:\n",
        "            return False\n",
        "        result = self.queue[self.front]\n",
        "        self.front = self.front + 1\n",
        "        return result"
      ]
    },
    {
      "cell_type": "code",
      "execution_count": null,
      "metadata": {
        "id": "dj-Mp9Tm4jFy",
        "outputId": "98017e55-55a5-483e-d9c6-bcad497767b2",
        "colab": {
          "base_uri": "https://localhost:8080/"
        }
      },
      "outputs": [
        {
          "output_type": "stream",
          "name": "stdout",
          "text": [
            "False\n"
          ]
        }
      ],
      "source": [
        "q4 = Queue()\n",
        "print(q4.dequeue())"
      ]
    },
    {
      "cell_type": "markdown",
      "metadata": {
        "id": "pS_tZxqK4jFy"
      },
      "source": [
        "## 小練習01\n",
        "參考上方的程式碼用list實做一個queue，並執行下方動作：\n",
        "* enqueue(4)\n",
        "* enqueue(22)\n",
        "* dequeue\n",
        "* enqueue(5)\n",
        "* dequeue\n",
        "\n",
        "請印出最後一次dequeue出來的數字"
      ]
    },
    {
      "cell_type": "code",
      "execution_count": null,
      "metadata": {
        "id": "A-WL7gqN4jFy"
      },
      "outputs": [],
      "source": []
    },
    {
      "cell_type": "markdown",
      "metadata": {
        "id": "q6Nw_3bM4jFy"
      },
      "source": [
        "# 你能讓 queue 不只能存 3 個值嗎？ 請改寫Queue這個class，並重複上方的動作"
      ]
    },
    {
      "cell_type": "code",
      "execution_count": null,
      "metadata": {
        "id": "EIk9viLo4jFy"
      },
      "outputs": [],
      "source": []
    },
    {
      "cell_type": "code",
      "source": [],
      "metadata": {
        "id": "K6s0N2jJx2Nt"
      },
      "execution_count": null,
      "outputs": []
    },
    {
      "cell_type": "markdown",
      "metadata": {
        "id": "Y61devGS4jFz"
      },
      "source": [
        "## Stack - 堆疊\n",
        "相較於queue，stack則是負責處理先進後出的狀況。<br>\n",
        "在搭公車的時候，先上車的人會站在比較裡面，後上車的會比較靠近門口，如果公車太滿了，晚上車靠近門口的人要先下來。\n",
        "\n",
        "這個情況剛好跟Stack的設計相同：\n",
        "1. 先進後出 (first in last out / FILO)\n",
        "2. push: 輸入的東西排在最上面\n",
        "3. pop: 輸出最上面的值\n",
        "4. 需要一個變數來記錄push和pop的位置\n",
        "\n",
        "<img width=50% src='https://imgur.com/uPyvTlX.png'>\n",
        "<img width=50% src='https://imgur.com/Qvn2rWL.png'> <br> "
      ]
    },
    {
      "cell_type": "markdown",
      "metadata": {
        "id": "aXWD1nS54jFz"
      },
      "source": [
        "#### 1. 建立stack的class"
      ]
    },
    {
      "cell_type": "code",
      "execution_count": null,
      "metadata": {
        "id": "yzLQD-vk4jFz"
      },
      "outputs": [],
      "source": [
        "class Stack():\n",
        "    def __init__(self):\n",
        "        self.stack = [None] * 3\n",
        "        self.top = -1"
      ]
    },
    {
      "cell_type": "markdown",
      "metadata": {
        "id": "yeo-1dT34jFz"
      },
      "source": [
        "#### 2. 定義push method "
      ]
    },
    {
      "cell_type": "code",
      "execution_count": null,
      "metadata": {
        "id": "VpQRENvH4jFz"
      },
      "outputs": [],
      "source": [
        "class Stack():\n",
        "    def __init__(self):\n",
        "        self.stack = [None] * 3\n",
        "        self.top = -1\n",
        "    def push(self, num):\n",
        "        if self.top+1 < len(self.stack):\n",
        "            self.top= self.top + 1\n",
        "            self.stack[self.top] = num\n",
        "            return True\n",
        "        else:\n",
        "            return False"
      ]
    },
    {
      "cell_type": "code",
      "execution_count": null,
      "metadata": {
        "id": "nB7VJY2l4jFz"
      },
      "outputs": [],
      "source": [
        "s1 = Stack()"
      ]
    },
    {
      "cell_type": "code",
      "execution_count": null,
      "metadata": {
        "id": "vGlZaOAW4jFz",
        "outputId": "527a8b45-cd52-432d-8e8b-17dc0e98d804",
        "colab": {
          "base_uri": "https://localhost:8080/"
        }
      },
      "outputs": [
        {
          "output_type": "stream",
          "name": "stdout",
          "text": [
            "True\n",
            "True\n",
            "True\n"
          ]
        }
      ],
      "source": [
        "print(s1.push(1))\n",
        "print(s1.push(2))\n",
        "print(s1.push(3))"
      ]
    },
    {
      "cell_type": "code",
      "execution_count": null,
      "metadata": {
        "id": "7bdHRcaV4jFz",
        "outputId": "b72f3a97-b2ac-488c-93ed-6237d0eecccd",
        "colab": {
          "base_uri": "https://localhost:8080/"
        }
      },
      "outputs": [
        {
          "output_type": "stream",
          "name": "stdout",
          "text": [
            "[1, 2, 3]\n"
          ]
        }
      ],
      "source": [
        "print(s1.stack)"
      ]
    },
    {
      "cell_type": "code",
      "execution_count": null,
      "metadata": {
        "id": "wiBmucx64jF0",
        "outputId": "e2bbc59b-2294-4ce6-f432-38ec209dc281",
        "colab": {
          "base_uri": "https://localhost:8080/"
        }
      },
      "outputs": [
        {
          "output_type": "stream",
          "name": "stdout",
          "text": [
            "False\n"
          ]
        }
      ],
      "source": [
        "print(s1.push(4))"
      ]
    },
    {
      "cell_type": "markdown",
      "metadata": {
        "id": "rCXfFLtu4jF0"
      },
      "source": [
        "#### 3. 定義pop method"
      ]
    },
    {
      "cell_type": "code",
      "execution_count": null,
      "metadata": {
        "id": "l5fbPP8l4jF0"
      },
      "outputs": [],
      "source": [
        "class Stack():\n",
        "    def __init__(self):\n",
        "        self.stack = [None] * 3\n",
        "        self.top = -1\n",
        "    def push(self,num):\n",
        "        if self.top+1 < len(self.stack):\n",
        "            self.top= self.top + 1\n",
        "            self.stack[self.top] = num\n",
        "            return True\n",
        "        else:\n",
        "            return False\n",
        "    def pop(self):\n",
        "        if self.top != -1:\n",
        "            result = self.stack[self.top]\n",
        "            self.top = self.top - 1\n",
        "            return result\n",
        "        else:\n",
        "            return False"
      ]
    },
    {
      "cell_type": "code",
      "execution_count": null,
      "metadata": {
        "id": "1cC_GVvr4jF0",
        "outputId": "6ae31773-669b-40cb-fdd2-a8160fc06605",
        "colab": {
          "base_uri": "https://localhost:8080/"
        }
      },
      "outputs": [
        {
          "output_type": "stream",
          "name": "stdout",
          "text": [
            "True\n",
            "True\n"
          ]
        }
      ],
      "source": [
        "s2 = Stack()\n",
        "print(s2.push(33))\n",
        "print(s2.push(55))"
      ]
    },
    {
      "cell_type": "code",
      "execution_count": null,
      "metadata": {
        "id": "TBcgbUoe4jF0",
        "outputId": "ed7ecc7a-23ff-4eeb-82a5-ad51cef3f025",
        "colab": {
          "base_uri": "https://localhost:8080/"
        }
      },
      "outputs": [
        {
          "output_type": "stream",
          "name": "stdout",
          "text": [
            "55\n"
          ]
        }
      ],
      "source": [
        "print(s2.pop())"
      ]
    },
    {
      "cell_type": "code",
      "execution_count": null,
      "metadata": {
        "id": "U9jOxUfP4jF0",
        "outputId": "ff2cdbd3-b303-460c-bbe1-13d6ff6f52e9",
        "colab": {
          "base_uri": "https://localhost:8080/"
        }
      },
      "outputs": [
        {
          "output_type": "stream",
          "name": "stdout",
          "text": [
            "33\n"
          ]
        }
      ],
      "source": [
        "print(s2.pop())"
      ]
    },
    {
      "cell_type": "code",
      "execution_count": null,
      "metadata": {
        "id": "dqLHT4ky4jF0",
        "outputId": "83ac3079-1db8-4879-d9f1-c576e799ba57",
        "colab": {
          "base_uri": "https://localhost:8080/"
        }
      },
      "outputs": [
        {
          "output_type": "stream",
          "name": "stdout",
          "text": [
            "False\n"
          ]
        }
      ],
      "source": [
        "print(s2.pop())"
      ]
    },
    {
      "cell_type": "markdown",
      "metadata": {
        "id": "96hOTGdN4jF0"
      },
      "source": [
        "## 小練習02\n",
        "參考上方的程式碼用list實做一個stack，並執行下方動作：\n",
        "* push(4)\n",
        "* push(22)\n",
        "* pop\n",
        "* push(5)\n",
        "* pop\n",
        "\n",
        "請印出最後一次pop出來的數字，並比較小練習1和2的結果，及運作過程"
      ]
    },
    {
      "cell_type": "code",
      "execution_count": null,
      "metadata": {
        "id": "mOhn0bJT4jF0"
      },
      "outputs": [],
      "source": []
    },
    {
      "cell_type": "markdown",
      "metadata": {
        "id": "4MvRq9tk4jF0"
      },
      "source": [
        "你能讓 stack 不只能存 3 個值嗎？ 請改寫Stack這個class，並重複上方的動作"
      ]
    },
    {
      "cell_type": "code",
      "execution_count": null,
      "metadata": {
        "id": "n65h9fzj4jF1"
      },
      "outputs": [],
      "source": []
    }
  ],
  "metadata": {
    "kernelspec": {
      "display_name": "Python 3",
      "language": "python",
      "name": "python3"
    },
    "language_info": {
      "codemirror_mode": {
        "name": "ipython",
        "version": 3
      },
      "file_extension": ".py",
      "mimetype": "text/x-python",
      "name": "python",
      "nbconvert_exporter": "python",
      "pygments_lexer": "ipython3",
      "version": "3.8.3"
    },
    "colab": {
      "provenance": []
    }
  },
  "nbformat": 4,
  "nbformat_minor": 0
}